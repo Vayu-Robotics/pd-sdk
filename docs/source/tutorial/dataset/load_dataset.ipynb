{
 "cells": [
  {
   "cell_type": "markdown",
   "metadata": {
    "collapsed": true,
    "pycharm": {
     "name": "#%% md\n"
    }
   },
   "source": [
    "# Work with a DGP Dataset\n",
    "\n",
    "When working with Parallel Domain's synthetic data, the standard output format is [Dataset Governance Policy (DGP)](https://github.com/TRI-ML/dgp/blob/master/dgp/proto/README.md).\n",
    "In general, the PD SDK can load from any format, as long as custom decoder exists adhering to the `DatasetDecoderProtocol`.\n",
    "Out of the box, PD SDK comes with a pre-configured `DGPDatasetDecoder` which we can leverage to load data.\n",
    "\n",
    "In this tutorial, we are going to load and access a dataset and its scenes.\n"
   ]
  },
  {
   "cell_type": "markdown",
   "source": [
    "## Load Dataset\n",
    "\n",
    "Initially, we need to select the fitting decoder (in this case: `DGPDatasetDecoder`) and then tell it where our dataset is stored. The location can be either a local filesystem path or an s3 address."
   ],
   "metadata": {
    "collapsed": false,
    "pycharm": {
     "name": "#%% md\n"
    }
   }
  },
  {
   "cell_type": "code",
   "execution_count": 1,
   "outputs": [],
   "source": [
    "from paralleldomain.decoding.dgp.decoder import DGPDatasetDecoder\n",
    "from paralleldomain.model.dataset import Dataset  # optional import, will also be imported by DGPDatasetDecoder\n",
    "\n",
    "dataset_path = \"s3://pd-sdk-c6b4d2ea-0301-46c9-8b63-ef20c0d014e9/testset_dgp\"\n",
    "dgp_decoder = DGPDatasetDecoder(dataset_path=dataset_path)\n",
    "\n",
    "dataset = dgp_decoder.get_dataset()"
   ],
   "metadata": {
    "collapsed": false,
    "pycharm": {
     "name": "#%%\n"
    }
   }
  },
  {
   "cell_type": "markdown",
   "source": [
    "## Dataset Information\n",
    "\n",
    "Now that the dataset information has been loaded, we query a couple of metadata from it:"
   ],
   "metadata": {
    "collapsed": false,
    "pycharm": {
     "name": "#%% md\n"
    }
   }
  },
  {
   "cell_type": "code",
   "execution_count": 2,
   "outputs": [
    {
     "name": "stdout",
     "output_type": "stream",
     "text": [
      "Dataset Metadata:\n",
      "Name: DefaultDatasetName\n",
      "Available Annotation Types:\n",
      "\t<class 'paralleldomain.model.annotation.BoundingBoxes2D'>\n",
      "\t<class 'paralleldomain.model.annotation.BoundingBoxes3D'>\n",
      "\t<class 'paralleldomain.model.annotation.SemanticSegmentation2D'>\n",
      "\t<class 'paralleldomain.model.annotation.SemanticSegmentation3D'>\n",
      "\t<class 'paralleldomain.model.annotation.InstanceSegmentation2D'>\n",
      "\t<class 'paralleldomain.model.annotation.InstanceSegmentation3D'>\n",
      "\t<class 'paralleldomain.model.annotation.Depth'>\n",
      "\t<class 'paralleldomain.model.annotation.Annotation'>\n",
      "\t<class 'paralleldomain.model.annotation.Annotation'>\n",
      "\t<class 'paralleldomain.model.annotation.OpticalFlow'>\n",
      "\t<class 'paralleldomain.model.annotation.Annotation'>\n",
      "Custom Attributes:\n",
      "\torigin: INTERNAL\n",
      "\tname: DefaultDatasetName\n",
      "\tcreator: \n",
      "\tavailable_annotation_types: [0, 1, 2, 3, 4, 5, 6, 10, 7, 8, 9]\n",
      "\tcreation_date: 2021-06-22T15:16:21.317Z\n",
      "\tversion: \n",
      "\tdescription: \n"
     ]
    }
   ],
   "source": [
    "print(\"Dataset Metadata:\")\n",
    "print(\"Name:\", dataset.meta_data.name)\n",
    "print(\"Available Annotation Types:\", *[f\"\\t{a}\" for a in dataset.available_annotation_types], sep=\"\\n\")\n",
    "print(\"Custom Attributes:\", *[f\"\\t{k}: {v}\" for k,v in dataset.meta_data.custom_attributes.items()], sep=\"\\n\")"
   ],
   "metadata": {
    "collapsed": false,
    "pycharm": {
     "name": "#%%\n"
    }
   }
  },
  {
   "cell_type": "markdown",
   "source": [
    "As you can see, the property `.available_annotation_types` includes classes from `paralleldomain.model.annotation`. In tutorials around reading annotations from a dataset, these exact classes will be re-used, and allows for a consistent type-check across objects."
   ],
   "metadata": {
    "collapsed": false,
    "pycharm": {
     "name": "#%% md\n"
    }
   }
  },
  {
   "cell_type": "markdown",
   "source": [
    "## Access available Scenes\n",
    "Every dataset consists of scenes. These can contain ordered (usually: by time) or unordered data.\n",
    "In this example, we are looking to receive a list of scene names by type that have been found within the loaded dataset."
   ],
   "metadata": {
    "collapsed": false,
    "pycharm": {
     "name": "#%% md\n"
    }
   }
  },
  {
   "cell_type": "code",
   "execution_count": 3,
   "outputs": [
    {
     "name": "stdout",
     "output_type": "stream",
     "text": [
      "Found scene pd-sdk_test_set\n",
      "Found unordered scene pd-sdk_test_set\n"
     ]
    }
   ],
   "source": [
    "for sn in dataset.scene_names:\n",
    "    print(f\"Found scene {sn}\")\n",
    "\n",
    "for usn in dataset.unordered_scene_names:\n",
    "    print(f\"Found unordered scene {usn}\")"
   ],
   "metadata": {
    "collapsed": false,
    "pycharm": {
     "name": "#%%\n"
    }
   }
  },
  {
   "cell_type": "markdown",
   "source": [
    "After gaining understanding what scenes are available, we can ask the dataset to return (and start lazy loading) that specific scene."
   ],
   "metadata": {
    "collapsed": false,
    "pycharm": {
     "name": "#%% md\n"
    }
   }
  },
  {
   "cell_type": "code",
   "execution_count": 4,
   "outputs": [
    {
     "name": "stdout",
     "output_type": "stream",
     "text": [
      "<paralleldomain.model.scene.Scene object at 0x7fc434b9f310>\n"
     ]
    }
   ],
   "source": [
    "selected_scene = dataset.scene_names[0]  # for future\n",
    "scene = dataset.get_scene(scene_name=selected_scene)\n",
    "\n",
    "print(scene)"
   ],
   "metadata": {
    "collapsed": false,
    "pycharm": {
     "name": "#%%\n"
    }
   }
  }
 ],
 "metadata": {
  "kernelspec": {
   "display_name": "Python 3",
   "language": "python",
   "name": "python3"
  },
  "language_info": {
   "codemirror_mode": {
    "name": "ipython",
    "version": 2
   },
   "file_extension": ".py",
   "mimetype": "text/x-python",
   "name": "python",
   "nbconvert_exporter": "python",
   "pygments_lexer": "ipython2",
   "version": "2.7.6"
  }
 },
 "nbformat": 4,
 "nbformat_minor": 0
}
