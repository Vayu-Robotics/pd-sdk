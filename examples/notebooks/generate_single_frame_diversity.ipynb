{
 "cells": [
  {
   "cell_type": "code",
   "execution_count": 1,
   "outputs": [],
   "source": [
    "import logging\n",
    "import os\n",
    "\n",
    "os.environ[\"PD_CLIENT_CREDENTIALS_PATH_ENV\"] = \"/Users/nisseknudsen/pd-2.pem\"\n",
    "os.environ[\"PD_CLIENT_STEP_API_KEY_ENV\"] = \"YYYY\"\n",
    "os.environ[\"PD_CLIENT_ORG_ENV\"] = \"XXXX\"\n",
    "\n",
    "logging.getLogger(\"pd.state.serialize\").setLevel(logging.CRITICAL)"
   ],
   "metadata": {
    "collapsed": false
   }
  },
  {
   "cell_type": "markdown",
   "source": [
    "### Create an empty scenario with a sensor rig"
   ],
   "metadata": {
    "collapsed": false
   }
  },
  {
   "cell_type": "code",
   "execution_count": 2,
   "outputs": [],
   "source": [
    "from typing import List, Dict\n",
    "\n",
    "from pd.state import PostProcessParams, Pose6D\n",
    "\n",
    "from paralleldomain.generation.scenario import Scenario\n",
    "from paralleldomain.mini_batch.sensor_rig import SensorRig, StepCameraSensor\n",
    "from paralleldomain.model.annotation import AnnotationType\n",
    "from paralleldomain.model.annotation import AnnotationTypes\n",
    "from paralleldomain.model.type_aliases import SensorName\n"
   ],
   "metadata": {
    "collapsed": false
   }
  },
  {
   "cell_type": "code",
   "execution_count": 3,
   "outputs": [],
   "source": [
    "class CarSensorRig(SensorRig):\n",
    "    def __init__(\n",
    "        self,\n",
    "        annotation_types: List[AnnotationType],\n",
    "        camera_name: str = \"Front\",\n",
    "        grayscale: bool = False,\n",
    "    ):\n",
    "        super().__init__()\n",
    "        self._camera_name = camera_name\n",
    "        self._annotation_types = annotation_types\n",
    "        self._grayscale = grayscale\n",
    "\n",
    "    @property\n",
    "    def sensor_wise_available_annotations(self) -> Dict[SensorName, List[AnnotationType]]:\n",
    "        return {self._camera_name: self._annotation_types}\n",
    "\n",
    "    def get_sensors(self) -> List[StepCameraSensor]:\n",
    "        sensor = SensorRig.create_camera_sensor(\n",
    "            name=self._camera_name,\n",
    "            width=768,\n",
    "            height=768,\n",
    "            frame_rate=10.0,\n",
    "            field_of_view_degrees=70,\n",
    "            pose=Pose6D.from_rpy_angles(\n",
    "                x_metres=0.0, y_metres=0.0, z_metres=2.0, roll_degrees=0.0, pitch_degrees=0.0, yaw_degrees=0.0\n",
    "            ),\n",
    "            annotation_types=self._annotation_types,\n",
    "            post_process_params=PostProcessParams(\n",
    "                motion_blur_amount=0.0,\n",
    "            ),\n",
    "            grayscale=self._grayscale,\n",
    "        )\n",
    "        return [sensor]\n",
    "\n"
   ],
   "metadata": {
    "collapsed": false
   }
  },
  {
   "cell_type": "code",
   "execution_count": 4,
   "outputs": [],
   "source": [
    "scenario = Scenario(\n",
    "    sensor_rig=CarSensorRig(annotation_types=[AnnotationTypes.InstanceSegmentation2D]),\n",
    ")"
   ],
   "metadata": {
    "collapsed": false
   }
  },
  {
   "cell_type": "markdown",
   "source": [
    "### Create an environment with weather and time of day"
   ],
   "metadata": {
    "collapsed": false
   }
  },
  {
   "cell_type": "code",
   "execution_count": 5,
   "outputs": [],
   "source": [
    "from paralleldomain.generation.environment import Environment, Clouds, Rain, ConstantDistribution, Fog, Wetness, Night\n"
   ],
   "metadata": {
    "collapsed": false
   }
  },
  {
   "cell_type": "code",
   "execution_count": 6,
   "outputs": [],
   "source": [
    "environment = Environment(\n",
    "    clouds=Clouds(distribution=ConstantDistribution(0.7)),\n",
    "    rain=Rain(distribution=ConstantDistribution(1.0)),\n",
    "    fog=Fog(),\n",
    "    wetness=Wetness(distribution=ConstantDistribution(0.3)),\n",
    "    time_of_day=Night(),\n",
    ")"
   ],
   "metadata": {
    "collapsed": false
   }
  },
  {
   "cell_type": "markdown",
   "source": [
    "### Assign environment to scenario"
   ],
   "metadata": {
    "collapsed": false
   }
  },
  {
   "cell_type": "code",
   "execution_count": 7,
   "outputs": [
    {
     "data": {
      "text/plain": "Scenario(sensor_rig=<__main__.CarSensorRig object at 0x147ad9ea0>, random_seed=42, environment=Environment(clouds=<paralleldomain.generation.environment.Clouds object at 0x147ada770>, fog=<paralleldomain.generation.environment.Fog object at 0x147ad95a0>, rain=<paralleldomain.generation.environment.Rain object at 0x147adbee0>, wetness=<paralleldomain.generation.environment.Wetness object at 0x147ad8280>, time_of_day=<paralleldomain.generation.environment.Night object at 0x147adb310>), location=SF_6thAndMission_medium(name='SF_6thAndMission_medium', version='v1'), time_of_day='LS_sky_noon_mostlySunny_1250_HDS025', steps=[])"
     },
     "execution_count": 7,
     "metadata": {},
     "output_type": "execute_result"
    }
   ],
   "source": [
    "scenario.set_environment(environment=environment)"
   ],
   "metadata": {
    "collapsed": false
   }
  },
  {
   "cell_type": "markdown",
   "source": [
    "### Place ourselves (ego) in the scene"
   ],
   "metadata": {
    "collapsed": false
   }
  },
  {
   "cell_type": "code",
   "execution_count": 8,
   "outputs": [
    {
     "data": {
      "text/plain": "Scenario(sensor_rig=<__main__.CarSensorRig object at 0x147ad9ea0>, random_seed=42, environment=Environment(clouds=<paralleldomain.generation.environment.Clouds object at 0x147ada770>, fog=<paralleldomain.generation.environment.Fog object at 0x147ad95a0>, rain=<paralleldomain.generation.environment.Rain object at 0x147adbee0>, wetness=<paralleldomain.generation.environment.Wetness object at 0x147ad8280>, time_of_day=<paralleldomain.generation.environment.Night object at 0x147adb310>), location=SF_6thAndMission_medium(name='SF_6thAndMission_medium', version='v1'), time_of_day='LS_sky_noon_mostlySunny_1250_HDS025', steps=[EgoVehicleGenerator(asset_name='suv_medium_01', behavior=VehicleBehavior(velocity_start_min=8, velocity_start_max=12, velocity_target_min=12, velocity_target_max=15, gear_start=<VehicleGear.DRIVE: 'DRIVE'>), position=None)])"
     },
     "execution_count": 8,
     "metadata": {},
     "output_type": "execute_result"
    }
   ],
   "source": [
    "from paralleldomain.generation.simulation.pd.atomics.vehicle import EgoVehicleGenerator\n",
    "\n",
    "scenario.add_agents(generator=EgoVehicleGenerator(asset_name=\"suv_medium_01\"))\n"
   ],
   "metadata": {
    "collapsed": false
   }
  },
  {
   "cell_type": "markdown",
   "source": [
    "### Add other agents to scene"
   ],
   "metadata": {
    "collapsed": false
   }
  },
  {
   "cell_type": "code",
   "execution_count": 9,
   "outputs": [],
   "source": [
    "from paralleldomain.generation.simulation.pd.atomics.common import EgoRelativePosition\n",
    "from paralleldomain.generation.simulation.pd.atomics.pedestrian import (\n",
    "    RandomPedestrianGenerator,\n",
    "    PedestrianGenerator,\n",
    "    PedestrianBehavior,\n",
    "    PedestrianMovement,\n",
    ")\n"
   ],
   "metadata": {
    "collapsed": false
   }
  },
  {
   "cell_type": "code",
   "execution_count": 10,
   "outputs": [
    {
     "data": {
      "text/plain": "Scenario(sensor_rig=<__main__.CarSensorRig object at 0x147ad9ea0>, random_seed=42, environment=Environment(clouds=<paralleldomain.generation.environment.Clouds object at 0x147ada770>, fog=<paralleldomain.generation.environment.Fog object at 0x147ad95a0>, rain=<paralleldomain.generation.environment.Rain object at 0x147adbee0>, wetness=<paralleldomain.generation.environment.Wetness object at 0x147ad8280>, time_of_day=<paralleldomain.generation.environment.Night object at 0x147adb310>), location=SF_6thAndMission_medium(name='SF_6thAndMission_medium', version='v1'), time_of_day='LS_sky_noon_mostlySunny_1250_HDS025', steps=[EgoVehicleGenerator(asset_name='suv_medium_01', behavior=VehicleBehavior(velocity_start_min=8, velocity_start_max=12, velocity_target_min=12, velocity_target_max=15, gear_start=<VehicleGear.DRIVE: 'DRIVE'>), position=None), RandomPedestrianGenerator(velocity_min=0.5, velocity_max=4.0, count_min=0, count_max=0, radius=100.0, density=2.4, position=None), PedestrianGenerator(asset_name=None, velocity=1.0, behavior=PedestrianBehavior(movement=<PedestrianMovement.JAYWALKER: 'JAYWALKER'>), position=EgoRelativePosition(longitudinal_offset=0.0, lateral_offset=0.0, yaw_offset=0.0, radius=10, lane_policy=None))])"
     },
     "execution_count": 10,
     "metadata": {},
     "output_type": "execute_result"
    }
   ],
   "source": [
    "scenario.add_agents(generator=RandomPedestrianGenerator(count_min=0, count_max=0))\n",
    "scenario.add_agents(\n",
    "    generator=PedestrianGenerator(\n",
    "        behavior=PedestrianBehavior(movement=PedestrianMovement.JAYWALKER),\n",
    "        position=EgoRelativePosition(radius=10),\n",
    "    )\n",
    ")\n",
    "# scenario.add_agents(generator=RandomPedestrianGenerator(count_min=10, count_max=20))"
   ],
   "metadata": {
    "collapsed": false
   }
  },
  {
   "cell_type": "markdown",
   "source": [
    "### Query data and write to disk"
   ],
   "metadata": {
    "collapsed": false
   }
  },
  {
   "cell_type": "code",
   "execution_count": 12,
   "outputs": [
    {
     "ename": "KeyboardInterrupt",
     "evalue": "",
     "output_type": "error",
     "traceback": [
      "\u001B[0;31m---------------------------------------------------------------------------\u001B[0m",
      "\u001B[0;31mKeyboardInterrupt\u001B[0m                         Traceback (most recent call last)",
      "Cell \u001B[0;32mIn[12], line 8\u001B[0m\n\u001B[1;32m      3\u001B[0m \u001B[38;5;28;01mfrom\u001B[39;00m \u001B[38;5;21;01mparalleldomain\u001B[39;00m\u001B[38;5;21;01m.\u001B[39;00m\u001B[38;5;21;01mutilities\u001B[39;00m\u001B[38;5;21;01m.\u001B[39;00m\u001B[38;5;21;01mfsio\u001B[39;00m \u001B[38;5;28;01mimport\u001B[39;00m write_png\n\u001B[1;32m      5\u001B[0m \u001B[38;5;28;01mimport\u001B[39;00m \u001B[38;5;21;01mmatplotlib\u001B[39;00m\u001B[38;5;21;01m.\u001B[39;00m\u001B[38;5;21;01mpyplot\u001B[39;00m \u001B[38;5;28;01mas\u001B[39;00m \u001B[38;5;21;01mplt\u001B[39;00m\n\u001B[0;32m----> 8\u001B[0m \u001B[38;5;28;01mfor\u001B[39;00m i, frame \u001B[38;5;129;01min\u001B[39;00m \u001B[38;5;28menumerate\u001B[39m(\n\u001B[1;32m      9\u001B[0m     Stream\u001B[38;5;241m.\u001B[39mframe_stream(\n\u001B[1;32m     10\u001B[0m         scenario\u001B[38;5;241m=\u001B[39mscenario, number_of_frames\u001B[38;5;241m=\u001B[39m\u001B[38;5;241m20\u001B[39m, name\u001B[38;5;241m=\u001B[39m\u001B[38;5;124m\"\u001B[39m\u001B[38;5;124mtest\u001B[39m\u001B[38;5;124m\"\u001B[39m, step_url\u001B[38;5;241m=\u001B[39m\u001B[38;5;124m\"\u001B[39m\u001B[38;5;124mssl://step-api.paralleldomain.com:3001\u001B[39m\u001B[38;5;124m\"\u001B[39m\n\u001B[1;32m     11\u001B[0m     )\n\u001B[1;32m     12\u001B[0m ):\n\u001B[1;32m     13\u001B[0m     \u001B[38;5;28;01mfor\u001B[39;00m camera_frame \u001B[38;5;129;01min\u001B[39;00m frame\u001B[38;5;241m.\u001B[39mcamera_frames:\n\u001B[1;32m     14\u001B[0m         write_png(obj\u001B[38;5;241m=\u001B[39mcamera_frame\u001B[38;5;241m.\u001B[39mimage\u001B[38;5;241m.\u001B[39mrgba, path\u001B[38;5;241m=\u001B[39mAnyPath(\u001B[38;5;124mf\u001B[39m\u001B[38;5;124m\"\u001B[39m\u001B[38;5;132;01m{\u001B[39;00mi\u001B[38;5;132;01m:\u001B[39;00m\u001B[38;5;124m04\u001B[39m\u001B[38;5;132;01m}\u001B[39;00m\u001B[38;5;124m.png\u001B[39m\u001B[38;5;124m\"\u001B[39m))\n",
      "File \u001B[0;32m~/Development/paralleldomain_internal/paralleldomain/generation/stream.py:24\u001B[0m, in \u001B[0;36mStream.frame_stream\u001B[0;34m(scenario, number_of_frames, frames_per_scene, name, **step_kwargs)\u001B[0m\n\u001B[1;32m     22\u001B[0m \u001B[38;5;28;01mwhile\u001B[39;00m frames_per_scene \u001B[38;5;241m==\u001B[39m \u001B[38;5;241m-\u001B[39m\u001B[38;5;241m1\u001B[39m \u001B[38;5;129;01mor\u001B[39;00m frame_index \u001B[38;5;241m%\u001B[39m frames_per_scene \u001B[38;5;241m!=\u001B[39m \u001B[38;5;241m0\u001B[39m:\n\u001B[1;32m     23\u001B[0m     current_frame \u001B[38;5;241m=\u001B[39m scenario_generator\u001B[38;5;241m.\u001B[39mnext_frame()\n\u001B[0;32m---> 24\u001B[0m     in_memory_frame_decoder \u001B[38;5;241m=\u001B[39m \u001B[43mInMemoryFrameDecoder\u001B[49m\u001B[38;5;241;43m.\u001B[39;49m\u001B[43mfrom_frame\u001B[49m\u001B[43m(\u001B[49m\u001B[43mframe\u001B[49m\u001B[38;5;241;43m=\u001B[39;49m\u001B[43mcurrent_frame\u001B[49m\u001B[43m)\u001B[49m\n\u001B[1;32m     25\u001B[0m     \u001B[38;5;28;01myield\u001B[39;00m Frame[TDateTime](\n\u001B[1;32m     26\u001B[0m         frame_id\u001B[38;5;241m=\u001B[39mcurrent_frame\u001B[38;5;241m.\u001B[39mframe_id,\n\u001B[1;32m     27\u001B[0m         decoder\u001B[38;5;241m=\u001B[39min_memory_frame_decoder,\n\u001B[1;32m     28\u001B[0m     )\n\u001B[1;32m     29\u001B[0m     frame_index \u001B[38;5;241m+\u001B[39m\u001B[38;5;241m=\u001B[39m \u001B[38;5;241m1\u001B[39m\n",
      "File \u001B[0;32m~/Development/paralleldomain_internal/paralleldomain/decoding/in_memory/frame_decoder.py:88\u001B[0m, in \u001B[0;36mInMemoryFrameDecoder.from_frame\u001B[0;34m(frame)\u001B[0m\n\u001B[1;32m     82\u001B[0m \u001B[38;5;28;01mfor\u001B[39;00m cam_sen \u001B[38;5;129;01min\u001B[39;00m frame\u001B[38;5;241m.\u001B[39mcamera_frames:\n\u001B[1;32m     83\u001B[0m     camera_names\u001B[38;5;241m.\u001B[39mappend(cam_sen\u001B[38;5;241m.\u001B[39msensor_name)\n\u001B[1;32m     84\u001B[0m     camera_sensor_frames\u001B[38;5;241m.\u001B[39mappend(\n\u001B[1;32m     85\u001B[0m         CameraSensorFrame(\n\u001B[1;32m     86\u001B[0m             sensor_name\u001B[38;5;241m=\u001B[39mcam_sen\u001B[38;5;241m.\u001B[39msensor_name,\n\u001B[1;32m     87\u001B[0m             frame_id\u001B[38;5;241m=\u001B[39mcam_sen\u001B[38;5;241m.\u001B[39mframe_id,\n\u001B[0;32m---> 88\u001B[0m             decoder\u001B[38;5;241m=\u001B[39m\u001B[43mInMemoryCameraFrameDecoder\u001B[49m\u001B[38;5;241;43m.\u001B[39;49m\u001B[43mfrom_camera_frame\u001B[49m\u001B[43m(\u001B[49m\u001B[43mcamera_frame\u001B[49m\u001B[38;5;241;43m=\u001B[39;49m\u001B[43mcam_sen\u001B[49m\u001B[43m)\u001B[49m,\n\u001B[1;32m     89\u001B[0m         )\n\u001B[1;32m     90\u001B[0m     )\n\u001B[1;32m     91\u001B[0m lidar_sensor_frames \u001B[38;5;241m=\u001B[39m \u001B[38;5;28mlist\u001B[39m()\n\u001B[1;32m     92\u001B[0m lidar_names \u001B[38;5;241m=\u001B[39m \u001B[38;5;28mlist\u001B[39m()\n",
      "File \u001B[0;32m~/Development/paralleldomain_internal/paralleldomain/decoding/in_memory/sensor_frame_decoder.py:102\u001B[0m, in \u001B[0;36mInMemoryCameraFrameDecoder.from_camera_frame\u001B[0;34m(camera_frame)\u001B[0m\n\u001B[1;32m    100\u001B[0m class_maps \u001B[38;5;241m=\u001B[39m \u001B[38;5;28mdict\u001B[39m()\n\u001B[1;32m    101\u001B[0m \u001B[38;5;28;01mfor\u001B[39;00m anno_type \u001B[38;5;129;01min\u001B[39;00m camera_frame\u001B[38;5;241m.\u001B[39mavailable_annotation_types:\n\u001B[0;32m--> 102\u001B[0m     annotations[anno_type\u001B[38;5;241m.\u001B[39m\u001B[38;5;18m__name__\u001B[39m] \u001B[38;5;241m=\u001B[39m \u001B[43mcamera_frame\u001B[49m\u001B[38;5;241;43m.\u001B[39;49m\u001B[43mget_annotations\u001B[49m\u001B[43m(\u001B[49m\u001B[43mannotation_type\u001B[49m\u001B[38;5;241;43m=\u001B[39;49m\u001B[43manno_type\u001B[49m\u001B[43m)\u001B[49m\n\u001B[1;32m    103\u001B[0m     class_maps[anno_type\u001B[38;5;241m.\u001B[39m\u001B[38;5;18m__name__\u001B[39m] \u001B[38;5;241m=\u001B[39m camera_frame\u001B[38;5;241m.\u001B[39mclass_maps[anno_type]\n\u001B[1;32m    105\u001B[0m \u001B[38;5;28;01mreturn\u001B[39;00m InMemoryCameraFrameDecoder(\n\u001B[1;32m    106\u001B[0m     dataset_name\u001B[38;5;241m=\u001B[39mcamera_frame\u001B[38;5;241m.\u001B[39mdataset_name,\n\u001B[1;32m    107\u001B[0m     scene_name\u001B[38;5;241m=\u001B[39mcamera_frame\u001B[38;5;241m.\u001B[39mscene_name,\n\u001B[0;32m   (...)\u001B[0m\n\u001B[1;32m    117\u001B[0m     image_dimensions\u001B[38;5;241m=\u001B[39m(camera_frame\u001B[38;5;241m.\u001B[39mimage\u001B[38;5;241m.\u001B[39mheight, camera_frame\u001B[38;5;241m.\u001B[39mimage\u001B[38;5;241m.\u001B[39mwidth, camera_frame\u001B[38;5;241m.\u001B[39mimage\u001B[38;5;241m.\u001B[39mchannels),\n\u001B[1;32m    118\u001B[0m )\n",
      "File \u001B[0;32m~/Development/paralleldomain_internal/paralleldomain/model/sensor.py:303\u001B[0m, in \u001B[0;36mSensorFrame.get_annotations\u001B[0;34m(self, annotation_type)\u001B[0m\n\u001B[1;32m    301\u001B[0m \u001B[38;5;28;01mif\u001B[39;00m annotation_type \u001B[38;5;129;01mnot\u001B[39;00m \u001B[38;5;129;01min\u001B[39;00m \u001B[38;5;28mself\u001B[39m\u001B[38;5;241m.\u001B[39m_annotation_type_identifiers:\n\u001B[1;32m    302\u001B[0m     \u001B[38;5;28;01mraise\u001B[39;00m \u001B[38;5;167;01mValueError\u001B[39;00m(\u001B[38;5;124mf\u001B[39m\u001B[38;5;124m\"\u001B[39m\u001B[38;5;124mThe annotation type \u001B[39m\u001B[38;5;132;01m{\u001B[39;00mannotation_type\u001B[38;5;132;01m}\u001B[39;00m\u001B[38;5;124m is not available in this sensor frame!\u001B[39m\u001B[38;5;124m\"\u001B[39m)\n\u001B[0;32m--> 303\u001B[0m \u001B[38;5;28;01mreturn\u001B[39;00m \u001B[38;5;28;43mself\u001B[39;49m\u001B[38;5;241;43m.\u001B[39;49m\u001B[43m_decoder\u001B[49m\u001B[38;5;241;43m.\u001B[39;49m\u001B[43mget_annotations\u001B[49m\u001B[43m(\u001B[49m\n\u001B[1;32m    304\u001B[0m \u001B[43m    \u001B[49m\u001B[43msensor_name\u001B[49m\u001B[38;5;241;43m=\u001B[39;49m\u001B[38;5;28;43mself\u001B[39;49m\u001B[38;5;241;43m.\u001B[39;49m\u001B[43msensor_name\u001B[49m\u001B[43m,\u001B[49m\n\u001B[1;32m    305\u001B[0m \u001B[43m    \u001B[49m\u001B[43mframe_id\u001B[49m\u001B[38;5;241;43m=\u001B[39;49m\u001B[38;5;28;43mself\u001B[39;49m\u001B[38;5;241;43m.\u001B[39;49m\u001B[43mframe_id\u001B[49m\u001B[43m,\u001B[49m\n\u001B[1;32m    306\u001B[0m \u001B[43m    \u001B[49m\u001B[43midentifier\u001B[49m\u001B[38;5;241;43m=\u001B[39;49m\u001B[38;5;28;43mself\u001B[39;49m\u001B[38;5;241;43m.\u001B[39;49m\u001B[43m_annotation_type_identifiers\u001B[49m\u001B[43m[\u001B[49m\u001B[43mannotation_type\u001B[49m\u001B[43m]\u001B[49m\u001B[43m,\u001B[49m\n\u001B[1;32m    307\u001B[0m \u001B[43m    \u001B[49m\u001B[43mannotation_type\u001B[49m\u001B[38;5;241;43m=\u001B[39;49m\u001B[43mannotation_type\u001B[49m\u001B[43m,\u001B[49m\n\u001B[1;32m    308\u001B[0m \u001B[43m\u001B[49m\u001B[43m)\u001B[49m\n",
      "File \u001B[0;32m~/Development/paralleldomain_internal/paralleldomain/decoding/sensor_frame_decoder.py:71\u001B[0m, in \u001B[0;36mSensorFrameDecoder.get_annotations\u001B[0;34m(self, sensor_name, frame_id, identifier, annotation_type)\u001B[0m\n\u001B[1;32m     64\u001B[0m     \u001B[38;5;28;01mreturn\u001B[39;00m \u001B[38;5;28mself\u001B[39m\u001B[38;5;241m.\u001B[39mlazy_load_cache\u001B[38;5;241m.\u001B[39mget_item(\n\u001B[1;32m     65\u001B[0m         key\u001B[38;5;241m=\u001B[39m_unique_cache_key,\n\u001B[1;32m     66\u001B[0m         loader\u001B[38;5;241m=\u001B[39m\u001B[38;5;28;01mlambda\u001B[39;00m: \u001B[38;5;28mself\u001B[39m\u001B[38;5;241m.\u001B[39m_decode_annotations(\n\u001B[1;32m     67\u001B[0m             sensor_name\u001B[38;5;241m=\u001B[39msensor_name, frame_id\u001B[38;5;241m=\u001B[39mframe_id, identifier\u001B[38;5;241m=\u001B[39midentifier, annotation_type\u001B[38;5;241m=\u001B[39mannotation_type\n\u001B[1;32m     68\u001B[0m         ),\n\u001B[1;32m     69\u001B[0m     )\n\u001B[1;32m     70\u001B[0m \u001B[38;5;28;01melse\u001B[39;00m:\n\u001B[0;32m---> 71\u001B[0m     \u001B[38;5;28;01mreturn\u001B[39;00m \u001B[38;5;28;43mself\u001B[39;49m\u001B[38;5;241;43m.\u001B[39;49m\u001B[43m_decode_annotations\u001B[49m\u001B[43m(\u001B[49m\n\u001B[1;32m     72\u001B[0m \u001B[43m        \u001B[49m\u001B[43msensor_name\u001B[49m\u001B[38;5;241;43m=\u001B[39;49m\u001B[43msensor_name\u001B[49m\u001B[43m,\u001B[49m\u001B[43m \u001B[49m\u001B[43mframe_id\u001B[49m\u001B[38;5;241;43m=\u001B[39;49m\u001B[43mframe_id\u001B[49m\u001B[43m,\u001B[49m\u001B[43m \u001B[49m\u001B[43midentifier\u001B[49m\u001B[38;5;241;43m=\u001B[39;49m\u001B[43midentifier\u001B[49m\u001B[43m,\u001B[49m\u001B[43m \u001B[49m\u001B[43mannotation_type\u001B[49m\u001B[38;5;241;43m=\u001B[39;49m\u001B[43mannotation_type\u001B[49m\n\u001B[1;32m     73\u001B[0m \u001B[43m    \u001B[49m\u001B[43m)\u001B[49m\n",
      "File \u001B[0;32m~/Development/paralleldomain_internal/paralleldomain/decoding/step/sensor_frame_decoder.py:267\u001B[0m, in \u001B[0;36mStepSensorFrameDecoder._decode_annotations\u001B[0;34m(self, sensor_name, frame_id, identifier, annotation_type)\u001B[0m\n\u001B[1;32m    265\u001B[0m     \u001B[38;5;28;01mreturn\u001B[39;00m SemanticSegmentation2D(class_ids\u001B[38;5;241m=\u001B[39mclass_ids\u001B[38;5;241m.\u001B[39mastype(\u001B[38;5;28mint\u001B[39m))\n\u001B[1;32m    266\u001B[0m \u001B[38;5;28;01melif\u001B[39;00m \u001B[38;5;28missubclass\u001B[39m(annotation_type, InstanceSegmentation2D):\n\u001B[0;32m--> 267\u001B[0m     sensor_data \u001B[38;5;241m=\u001B[39m \u001B[38;5;28;43mself\u001B[39;49m\u001B[38;5;241;43m.\u001B[39;49m\u001B[43msession\u001B[49m\u001B[38;5;241;43m.\u001B[39;49m\u001B[43mquery_sensor_data\u001B[49m\u001B[43m(\u001B[49m\n\u001B[1;32m    268\u001B[0m \u001B[43m        \u001B[49m\u001B[38;5;28;43mself\u001B[39;49m\u001B[38;5;241;43m.\u001B[39;49m\u001B[43m_ego_agent_id\u001B[49m\u001B[43m,\u001B[49m\u001B[43m \u001B[49m\u001B[43msensor_name\u001B[49m\u001B[43m,\u001B[49m\u001B[43m \u001B[49m\u001B[43mpd\u001B[49m\u001B[38;5;241;43m.\u001B[39;49m\u001B[43mstate\u001B[49m\u001B[38;5;241;43m.\u001B[39;49m\u001B[43mSensorBuffer\u001B[49m\u001B[38;5;241;43m.\u001B[39;49m\u001B[43mINSTANCES\u001B[49m\n\u001B[1;32m    269\u001B[0m \u001B[43m    \u001B[49m\u001B[43m)\u001B[49m\n\u001B[1;32m    270\u001B[0m     instance_ids \u001B[38;5;241m=\u001B[39m np\u001B[38;5;241m.\u001B[39mexpand_dims(sensor_data\u001B[38;5;241m.\u001B[39mdata_as_instance_ids, \u001B[38;5;241m-\u001B[39m\u001B[38;5;241m1\u001B[39m)\n\u001B[1;32m    271\u001B[0m     \u001B[38;5;28;01mreturn\u001B[39;00m InstanceSegmentation2D(instance_ids\u001B[38;5;241m=\u001B[39minstance_ids\u001B[38;5;241m.\u001B[39mastype(\u001B[38;5;28mint\u001B[39m))\n",
      "File \u001B[0;32m~/.pyenv/versions/paralleldomain_internal/lib/python3.10/site-packages/pd/session/session.py:231\u001B[0m, in \u001B[0;36mSession.query_sensor_data\u001B[0;34m(self, agent_id, sensor_name, buffer)\u001B[0m\n\u001B[1;32m    228\u001B[0m msg \u001B[38;5;241m=\u001B[39m \u001B[38;5;28mself\u001B[39m\u001B[38;5;241m.\u001B[39m_build_pd_query_sensor_data(builder, agent_id, sensor_name, buffer)\n\u001B[1;32m    230\u001B[0m builder\u001B[38;5;241m.\u001B[39mFinish(msg)\n\u001B[0;32m--> 231\u001B[0m resp_bytes \u001B[38;5;241m=\u001B[39m \u001B[38;5;28;43mself\u001B[39;49m\u001B[38;5;241;43m.\u001B[39;49m\u001B[43mtransport\u001B[49m\u001B[38;5;241;43m.\u001B[39;49m\u001B[43msend_request_msg\u001B[49m\u001B[43m(\u001B[49m\u001B[43mbuilder\u001B[49m\u001B[38;5;241;43m.\u001B[39;49m\u001B[43mOutput\u001B[49m\u001B[43m(\u001B[49m\u001B[43m)\u001B[49m\u001B[43m)\u001B[49m\n\u001B[1;32m    233\u001B[0m ack_bytes \u001B[38;5;241m=\u001B[39m \u001B[38;5;28mbytearray\u001B[39m()\n\u001B[1;32m    234\u001B[0m ack_bytes\u001B[38;5;241m.\u001B[39mextend(resp_bytes)\n",
      "File \u001B[0;32m~/.pyenv/versions/paralleldomain_internal/lib/python3.10/site-packages/pd/session/transport.py:288\u001B[0m, in \u001B[0;36mTlsProxyForZmqTransport.send_request_msg\u001B[0;34m(self, msg_bytes)\u001B[0m\n\u001B[1;32m    287\u001B[0m \u001B[38;5;28;01mdef\u001B[39;00m \u001B[38;5;21msend_request_msg\u001B[39m(\u001B[38;5;28mself\u001B[39m, msg_bytes: \u001B[38;5;28mbytearray\u001B[39m) \u001B[38;5;241m-\u001B[39m\u001B[38;5;241m>\u001B[39m \u001B[38;5;28mbytes\u001B[39m:\n\u001B[0;32m--> 288\u001B[0m     \u001B[38;5;28;01mreturn\u001B[39;00m \u001B[38;5;28;43mself\u001B[39;49m\u001B[38;5;241;43m.\u001B[39;49m\u001B[43m_zmq_transport\u001B[49m\u001B[38;5;241;43m.\u001B[39;49m\u001B[43msend_request_msg\u001B[49m\u001B[43m(\u001B[49m\u001B[43mmsg_bytes\u001B[49m\u001B[43m)\u001B[49m\n",
      "File \u001B[0;32m~/.pyenv/versions/paralleldomain_internal/lib/python3.10/site-packages/pd/session/transport.py:214\u001B[0m, in \u001B[0;36mZmqTransport.send_request_msg\u001B[0;34m(self, msg_bytes)\u001B[0m\n\u001B[1;32m    212\u001B[0m \u001B[38;5;28;01mdef\u001B[39;00m \u001B[38;5;21msend_request_msg\u001B[39m(\u001B[38;5;28mself\u001B[39m, msg_bytes: \u001B[38;5;28mbytearray\u001B[39m) \u001B[38;5;241m-\u001B[39m\u001B[38;5;241m>\u001B[39m \u001B[38;5;28mbytes\u001B[39m:\n\u001B[1;32m    213\u001B[0m     \u001B[38;5;28mself\u001B[39m\u001B[38;5;241m.\u001B[39m_request_socket\u001B[38;5;241m.\u001B[39msend(msg_bytes)\n\u001B[0;32m--> 214\u001B[0m     resp \u001B[38;5;241m=\u001B[39m \u001B[38;5;28;43mself\u001B[39;49m\u001B[38;5;241;43m.\u001B[39;49m\u001B[43m_request_socket\u001B[49m\u001B[38;5;241;43m.\u001B[39;49m\u001B[43mrecv\u001B[49m\u001B[43m(\u001B[49m\u001B[43m)\u001B[49m\n\u001B[1;32m    215\u001B[0m     \u001B[38;5;28;01mfor\u001B[39;00m l \u001B[38;5;129;01min\u001B[39;00m \u001B[38;5;28mself\u001B[39m\u001B[38;5;241m.\u001B[39mlisteners:\n\u001B[1;32m    216\u001B[0m         l\u001B[38;5;241m.\u001B[39mon_send_request_msg(timestamp\u001B[38;5;241m=\u001B[39mtime\u001B[38;5;241m.\u001B[39mtime(), data\u001B[38;5;241m=\u001B[39m\u001B[38;5;28mbytes\u001B[39m(msg_bytes))\n",
      "File \u001B[0;32mzmq/backend/cython/socket.pyx:805\u001B[0m, in \u001B[0;36mzmq.backend.cython.socket.Socket.recv\u001B[0;34m()\u001B[0m\n",
      "File \u001B[0;32mzmq/backend/cython/socket.pyx:841\u001B[0m, in \u001B[0;36mzmq.backend.cython.socket.Socket.recv\u001B[0;34m()\u001B[0m\n",
      "File \u001B[0;32mzmq/backend/cython/socket.pyx:194\u001B[0m, in \u001B[0;36mzmq.backend.cython.socket._recv_copy\u001B[0;34m()\u001B[0m\n",
      "File \u001B[0;32m~/.pyenv/versions/paralleldomain_internal/lib/python3.10/site-packages/zmq/backend/cython/checkrc.pxd:13\u001B[0m, in \u001B[0;36mzmq.backend.cython.checkrc._check_rc\u001B[0;34m()\u001B[0m\n",
      "\u001B[0;31mKeyboardInterrupt\u001B[0m: "
     ]
    },
    {
     "name": "stdout",
     "output_type": "stream",
     "text": [
      "Error in callback <function flush_figures at 0x28b403f40> (for post_execute):\n"
     ]
    },
    {
     "ename": "KeyboardInterrupt",
     "evalue": "",
     "output_type": "error",
     "traceback": [
      "\u001B[0;31m---------------------------------------------------------------------------\u001B[0m",
      "\u001B[0;31mKeyboardInterrupt\u001B[0m                         Traceback (most recent call last)",
      "File \u001B[0;32m~/.pyenv/versions/paralleldomain_internal/lib/python3.10/site-packages/matplotlib_inline/backend_inline.py:126\u001B[0m, in \u001B[0;36mflush_figures\u001B[0;34m()\u001B[0m\n\u001B[1;32m    123\u001B[0m \u001B[38;5;28;01mif\u001B[39;00m InlineBackend\u001B[38;5;241m.\u001B[39minstance()\u001B[38;5;241m.\u001B[39mclose_figures:\n\u001B[1;32m    124\u001B[0m     \u001B[38;5;66;03m# ignore the tracking, just draw and close all figures\u001B[39;00m\n\u001B[1;32m    125\u001B[0m     \u001B[38;5;28;01mtry\u001B[39;00m:\n\u001B[0;32m--> 126\u001B[0m         \u001B[38;5;28;01mreturn\u001B[39;00m \u001B[43mshow\u001B[49m\u001B[43m(\u001B[49m\u001B[38;5;28;43;01mTrue\u001B[39;49;00m\u001B[43m)\u001B[49m\n\u001B[1;32m    127\u001B[0m     \u001B[38;5;28;01mexcept\u001B[39;00m \u001B[38;5;167;01mException\u001B[39;00m \u001B[38;5;28;01mas\u001B[39;00m e:\n\u001B[1;32m    128\u001B[0m         \u001B[38;5;66;03m# safely show traceback if in IPython, else raise\u001B[39;00m\n\u001B[1;32m    129\u001B[0m         ip \u001B[38;5;241m=\u001B[39m get_ipython()\n",
      "File \u001B[0;32m~/.pyenv/versions/paralleldomain_internal/lib/python3.10/site-packages/matplotlib_inline/backend_inline.py:90\u001B[0m, in \u001B[0;36mshow\u001B[0;34m(close, block)\u001B[0m\n\u001B[1;32m     88\u001B[0m \u001B[38;5;28;01mtry\u001B[39;00m:\n\u001B[1;32m     89\u001B[0m     \u001B[38;5;28;01mfor\u001B[39;00m figure_manager \u001B[38;5;129;01min\u001B[39;00m Gcf\u001B[38;5;241m.\u001B[39mget_all_fig_managers():\n\u001B[0;32m---> 90\u001B[0m         \u001B[43mdisplay\u001B[49m\u001B[43m(\u001B[49m\n\u001B[1;32m     91\u001B[0m \u001B[43m            \u001B[49m\u001B[43mfigure_manager\u001B[49m\u001B[38;5;241;43m.\u001B[39;49m\u001B[43mcanvas\u001B[49m\u001B[38;5;241;43m.\u001B[39;49m\u001B[43mfigure\u001B[49m\u001B[43m,\u001B[49m\n\u001B[1;32m     92\u001B[0m \u001B[43m            \u001B[49m\u001B[43mmetadata\u001B[49m\u001B[38;5;241;43m=\u001B[39;49m\u001B[43m_fetch_figure_metadata\u001B[49m\u001B[43m(\u001B[49m\u001B[43mfigure_manager\u001B[49m\u001B[38;5;241;43m.\u001B[39;49m\u001B[43mcanvas\u001B[49m\u001B[38;5;241;43m.\u001B[39;49m\u001B[43mfigure\u001B[49m\u001B[43m)\u001B[49m\n\u001B[1;32m     93\u001B[0m \u001B[43m        \u001B[49m\u001B[43m)\u001B[49m\n\u001B[1;32m     94\u001B[0m \u001B[38;5;28;01mfinally\u001B[39;00m:\n\u001B[1;32m     95\u001B[0m     show\u001B[38;5;241m.\u001B[39m_to_draw \u001B[38;5;241m=\u001B[39m []\n",
      "File \u001B[0;32m~/.pyenv/versions/paralleldomain_internal/lib/python3.10/site-packages/IPython/core/display_functions.py:298\u001B[0m, in \u001B[0;36mdisplay\u001B[0;34m(include, exclude, metadata, transient, display_id, raw, clear, *objs, **kwargs)\u001B[0m\n\u001B[1;32m    296\u001B[0m     publish_display_data(data\u001B[38;5;241m=\u001B[39mobj, metadata\u001B[38;5;241m=\u001B[39mmetadata, \u001B[38;5;241m*\u001B[39m\u001B[38;5;241m*\u001B[39mkwargs)\n\u001B[1;32m    297\u001B[0m \u001B[38;5;28;01melse\u001B[39;00m:\n\u001B[0;32m--> 298\u001B[0m     format_dict, md_dict \u001B[38;5;241m=\u001B[39m \u001B[38;5;28;43mformat\u001B[39;49m\u001B[43m(\u001B[49m\u001B[43mobj\u001B[49m\u001B[43m,\u001B[49m\u001B[43m \u001B[49m\u001B[43minclude\u001B[49m\u001B[38;5;241;43m=\u001B[39;49m\u001B[43minclude\u001B[49m\u001B[43m,\u001B[49m\u001B[43m \u001B[49m\u001B[43mexclude\u001B[49m\u001B[38;5;241;43m=\u001B[39;49m\u001B[43mexclude\u001B[49m\u001B[43m)\u001B[49m\n\u001B[1;32m    299\u001B[0m     \u001B[38;5;28;01mif\u001B[39;00m \u001B[38;5;129;01mnot\u001B[39;00m format_dict:\n\u001B[1;32m    300\u001B[0m         \u001B[38;5;66;03m# nothing to display (e.g. _ipython_display_ took over)\u001B[39;00m\n\u001B[1;32m    301\u001B[0m         \u001B[38;5;28;01mcontinue\u001B[39;00m\n",
      "File \u001B[0;32m~/.pyenv/versions/paralleldomain_internal/lib/python3.10/site-packages/IPython/core/formatters.py:177\u001B[0m, in \u001B[0;36mDisplayFormatter.format\u001B[0;34m(self, obj, include, exclude)\u001B[0m\n\u001B[1;32m    175\u001B[0m md \u001B[38;5;241m=\u001B[39m \u001B[38;5;28;01mNone\u001B[39;00m\n\u001B[1;32m    176\u001B[0m \u001B[38;5;28;01mtry\u001B[39;00m:\n\u001B[0;32m--> 177\u001B[0m     data \u001B[38;5;241m=\u001B[39m \u001B[43mformatter\u001B[49m\u001B[43m(\u001B[49m\u001B[43mobj\u001B[49m\u001B[43m)\u001B[49m\n\u001B[1;32m    178\u001B[0m \u001B[38;5;28;01mexcept\u001B[39;00m:\n\u001B[1;32m    179\u001B[0m     \u001B[38;5;66;03m# FIXME: log the exception\u001B[39;00m\n\u001B[1;32m    180\u001B[0m     \u001B[38;5;28;01mraise\u001B[39;00m\n",
      "File \u001B[0;32m~/.pyenv/versions/paralleldomain_internal/lib/python3.10/site-packages/decorator.py:232\u001B[0m, in \u001B[0;36mdecorate.<locals>.fun\u001B[0;34m(*args, **kw)\u001B[0m\n\u001B[1;32m    230\u001B[0m \u001B[38;5;28;01mif\u001B[39;00m \u001B[38;5;129;01mnot\u001B[39;00m kwsyntax:\n\u001B[1;32m    231\u001B[0m     args, kw \u001B[38;5;241m=\u001B[39m fix(args, kw, sig)\n\u001B[0;32m--> 232\u001B[0m \u001B[38;5;28;01mreturn\u001B[39;00m \u001B[43mcaller\u001B[49m\u001B[43m(\u001B[49m\u001B[43mfunc\u001B[49m\u001B[43m,\u001B[49m\u001B[43m \u001B[49m\u001B[38;5;241;43m*\u001B[39;49m\u001B[43m(\u001B[49m\u001B[43mextras\u001B[49m\u001B[43m \u001B[49m\u001B[38;5;241;43m+\u001B[39;49m\u001B[43m \u001B[49m\u001B[43margs\u001B[49m\u001B[43m)\u001B[49m\u001B[43m,\u001B[49m\u001B[43m \u001B[49m\u001B[38;5;241;43m*\u001B[39;49m\u001B[38;5;241;43m*\u001B[39;49m\u001B[43mkw\u001B[49m\u001B[43m)\u001B[49m\n",
      "File \u001B[0;32m~/.pyenv/versions/paralleldomain_internal/lib/python3.10/site-packages/IPython/core/formatters.py:221\u001B[0m, in \u001B[0;36mcatch_format_error\u001B[0;34m(method, self, *args, **kwargs)\u001B[0m\n\u001B[1;32m    219\u001B[0m \u001B[38;5;250m\u001B[39m\u001B[38;5;124;03m\"\"\"show traceback on failed format call\"\"\"\u001B[39;00m\n\u001B[1;32m    220\u001B[0m \u001B[38;5;28;01mtry\u001B[39;00m:\n\u001B[0;32m--> 221\u001B[0m     r \u001B[38;5;241m=\u001B[39m \u001B[43mmethod\u001B[49m\u001B[43m(\u001B[49m\u001B[38;5;28;43mself\u001B[39;49m\u001B[43m,\u001B[49m\u001B[43m \u001B[49m\u001B[38;5;241;43m*\u001B[39;49m\u001B[43margs\u001B[49m\u001B[43m,\u001B[49m\u001B[43m \u001B[49m\u001B[38;5;241;43m*\u001B[39;49m\u001B[38;5;241;43m*\u001B[39;49m\u001B[43mkwargs\u001B[49m\u001B[43m)\u001B[49m\n\u001B[1;32m    222\u001B[0m \u001B[38;5;28;01mexcept\u001B[39;00m \u001B[38;5;167;01mNotImplementedError\u001B[39;00m:\n\u001B[1;32m    223\u001B[0m     \u001B[38;5;66;03m# don't warn on NotImplementedErrors\u001B[39;00m\n\u001B[1;32m    224\u001B[0m     \u001B[38;5;28;01mreturn\u001B[39;00m \u001B[38;5;28mself\u001B[39m\u001B[38;5;241m.\u001B[39m_check_return(\u001B[38;5;28;01mNone\u001B[39;00m, args[\u001B[38;5;241m0\u001B[39m])\n",
      "File \u001B[0;32m~/.pyenv/versions/paralleldomain_internal/lib/python3.10/site-packages/IPython/core/formatters.py:338\u001B[0m, in \u001B[0;36mBaseFormatter.__call__\u001B[0;34m(self, obj)\u001B[0m\n\u001B[1;32m    336\u001B[0m     \u001B[38;5;28;01mpass\u001B[39;00m\n\u001B[1;32m    337\u001B[0m \u001B[38;5;28;01melse\u001B[39;00m:\n\u001B[0;32m--> 338\u001B[0m     \u001B[38;5;28;01mreturn\u001B[39;00m \u001B[43mprinter\u001B[49m\u001B[43m(\u001B[49m\u001B[43mobj\u001B[49m\u001B[43m)\u001B[49m\n\u001B[1;32m    339\u001B[0m \u001B[38;5;66;03m# Finally look for special method names\u001B[39;00m\n\u001B[1;32m    340\u001B[0m method \u001B[38;5;241m=\u001B[39m get_real_method(obj, \u001B[38;5;28mself\u001B[39m\u001B[38;5;241m.\u001B[39mprint_method)\n",
      "File \u001B[0;32m~/.pyenv/versions/paralleldomain_internal/lib/python3.10/site-packages/IPython/core/pylabtools.py:152\u001B[0m, in \u001B[0;36mprint_figure\u001B[0;34m(fig, fmt, bbox_inches, base64, **kwargs)\u001B[0m\n\u001B[1;32m    149\u001B[0m     \u001B[38;5;28;01mfrom\u001B[39;00m \u001B[38;5;21;01mmatplotlib\u001B[39;00m\u001B[38;5;21;01m.\u001B[39;00m\u001B[38;5;21;01mbackend_bases\u001B[39;00m \u001B[38;5;28;01mimport\u001B[39;00m FigureCanvasBase\n\u001B[1;32m    150\u001B[0m     FigureCanvasBase(fig)\n\u001B[0;32m--> 152\u001B[0m \u001B[43mfig\u001B[49m\u001B[38;5;241;43m.\u001B[39;49m\u001B[43mcanvas\u001B[49m\u001B[38;5;241;43m.\u001B[39;49m\u001B[43mprint_figure\u001B[49m\u001B[43m(\u001B[49m\u001B[43mbytes_io\u001B[49m\u001B[43m,\u001B[49m\u001B[43m \u001B[49m\u001B[38;5;241;43m*\u001B[39;49m\u001B[38;5;241;43m*\u001B[39;49m\u001B[43mkw\u001B[49m\u001B[43m)\u001B[49m\n\u001B[1;32m    153\u001B[0m data \u001B[38;5;241m=\u001B[39m bytes_io\u001B[38;5;241m.\u001B[39mgetvalue()\n\u001B[1;32m    154\u001B[0m \u001B[38;5;28;01mif\u001B[39;00m fmt \u001B[38;5;241m==\u001B[39m \u001B[38;5;124m'\u001B[39m\u001B[38;5;124msvg\u001B[39m\u001B[38;5;124m'\u001B[39m:\n",
      "File \u001B[0;32m~/.pyenv/versions/paralleldomain_internal/lib/python3.10/site-packages/matplotlib/backend_bases.py:2314\u001B[0m, in \u001B[0;36mFigureCanvasBase.print_figure\u001B[0;34m(self, filename, dpi, facecolor, edgecolor, orientation, format, bbox_inches, pad_inches, bbox_extra_artists, backend, **kwargs)\u001B[0m\n\u001B[1;32m   2308\u001B[0m     renderer \u001B[38;5;241m=\u001B[39m _get_renderer(\n\u001B[1;32m   2309\u001B[0m         \u001B[38;5;28mself\u001B[39m\u001B[38;5;241m.\u001B[39mfigure,\n\u001B[1;32m   2310\u001B[0m         functools\u001B[38;5;241m.\u001B[39mpartial(\n\u001B[1;32m   2311\u001B[0m             print_method, orientation\u001B[38;5;241m=\u001B[39morientation)\n\u001B[1;32m   2312\u001B[0m     )\n\u001B[1;32m   2313\u001B[0m     \u001B[38;5;28;01mwith\u001B[39;00m \u001B[38;5;28mgetattr\u001B[39m(renderer, \u001B[38;5;124m\"\u001B[39m\u001B[38;5;124m_draw_disabled\u001B[39m\u001B[38;5;124m\"\u001B[39m, nullcontext)():\n\u001B[0;32m-> 2314\u001B[0m         \u001B[38;5;28;43mself\u001B[39;49m\u001B[38;5;241;43m.\u001B[39;49m\u001B[43mfigure\u001B[49m\u001B[38;5;241;43m.\u001B[39;49m\u001B[43mdraw\u001B[49m\u001B[43m(\u001B[49m\u001B[43mrenderer\u001B[49m\u001B[43m)\u001B[49m\n\u001B[1;32m   2316\u001B[0m \u001B[38;5;28;01mif\u001B[39;00m bbox_inches:\n\u001B[1;32m   2317\u001B[0m     \u001B[38;5;28;01mif\u001B[39;00m bbox_inches \u001B[38;5;241m==\u001B[39m \u001B[38;5;124m\"\u001B[39m\u001B[38;5;124mtight\u001B[39m\u001B[38;5;124m\"\u001B[39m:\n",
      "File \u001B[0;32m~/.pyenv/versions/paralleldomain_internal/lib/python3.10/site-packages/matplotlib/artist.py:74\u001B[0m, in \u001B[0;36m_finalize_rasterization.<locals>.draw_wrapper\u001B[0;34m(artist, renderer, *args, **kwargs)\u001B[0m\n\u001B[1;32m     72\u001B[0m \u001B[38;5;129m@wraps\u001B[39m(draw)\n\u001B[1;32m     73\u001B[0m \u001B[38;5;28;01mdef\u001B[39;00m \u001B[38;5;21mdraw_wrapper\u001B[39m(artist, renderer, \u001B[38;5;241m*\u001B[39margs, \u001B[38;5;241m*\u001B[39m\u001B[38;5;241m*\u001B[39mkwargs):\n\u001B[0;32m---> 74\u001B[0m     result \u001B[38;5;241m=\u001B[39m \u001B[43mdraw\u001B[49m\u001B[43m(\u001B[49m\u001B[43martist\u001B[49m\u001B[43m,\u001B[49m\u001B[43m \u001B[49m\u001B[43mrenderer\u001B[49m\u001B[43m,\u001B[49m\u001B[43m \u001B[49m\u001B[38;5;241;43m*\u001B[39;49m\u001B[43margs\u001B[49m\u001B[43m,\u001B[49m\u001B[43m \u001B[49m\u001B[38;5;241;43m*\u001B[39;49m\u001B[38;5;241;43m*\u001B[39;49m\u001B[43mkwargs\u001B[49m\u001B[43m)\u001B[49m\n\u001B[1;32m     75\u001B[0m     \u001B[38;5;28;01mif\u001B[39;00m renderer\u001B[38;5;241m.\u001B[39m_rasterizing:\n\u001B[1;32m     76\u001B[0m         renderer\u001B[38;5;241m.\u001B[39mstop_rasterizing()\n",
      "File \u001B[0;32m~/.pyenv/versions/paralleldomain_internal/lib/python3.10/site-packages/matplotlib/artist.py:51\u001B[0m, in \u001B[0;36mallow_rasterization.<locals>.draw_wrapper\u001B[0;34m(artist, renderer)\u001B[0m\n\u001B[1;32m     48\u001B[0m     \u001B[38;5;28;01mif\u001B[39;00m artist\u001B[38;5;241m.\u001B[39mget_agg_filter() \u001B[38;5;129;01mis\u001B[39;00m \u001B[38;5;129;01mnot\u001B[39;00m \u001B[38;5;28;01mNone\u001B[39;00m:\n\u001B[1;32m     49\u001B[0m         renderer\u001B[38;5;241m.\u001B[39mstart_filter()\n\u001B[0;32m---> 51\u001B[0m     \u001B[38;5;28;01mreturn\u001B[39;00m \u001B[43mdraw\u001B[49m\u001B[43m(\u001B[49m\u001B[43martist\u001B[49m\u001B[43m,\u001B[49m\u001B[43m \u001B[49m\u001B[43mrenderer\u001B[49m\u001B[43m)\u001B[49m\n\u001B[1;32m     52\u001B[0m \u001B[38;5;28;01mfinally\u001B[39;00m:\n\u001B[1;32m     53\u001B[0m     \u001B[38;5;28;01mif\u001B[39;00m artist\u001B[38;5;241m.\u001B[39mget_agg_filter() \u001B[38;5;129;01mis\u001B[39;00m \u001B[38;5;129;01mnot\u001B[39;00m \u001B[38;5;28;01mNone\u001B[39;00m:\n",
      "File \u001B[0;32m~/.pyenv/versions/paralleldomain_internal/lib/python3.10/site-packages/matplotlib/figure.py:3082\u001B[0m, in \u001B[0;36mFigure.draw\u001B[0;34m(self, renderer)\u001B[0m\n\u001B[1;32m   3079\u001B[0m         \u001B[38;5;66;03m# ValueError can occur when resizing a window.\u001B[39;00m\n\u001B[1;32m   3081\u001B[0m \u001B[38;5;28mself\u001B[39m\u001B[38;5;241m.\u001B[39mpatch\u001B[38;5;241m.\u001B[39mdraw(renderer)\n\u001B[0;32m-> 3082\u001B[0m \u001B[43mmimage\u001B[49m\u001B[38;5;241;43m.\u001B[39;49m\u001B[43m_draw_list_compositing_images\u001B[49m\u001B[43m(\u001B[49m\n\u001B[1;32m   3083\u001B[0m \u001B[43m    \u001B[49m\u001B[43mrenderer\u001B[49m\u001B[43m,\u001B[49m\u001B[43m \u001B[49m\u001B[38;5;28;43mself\u001B[39;49m\u001B[43m,\u001B[49m\u001B[43m \u001B[49m\u001B[43martists\u001B[49m\u001B[43m,\u001B[49m\u001B[43m \u001B[49m\u001B[38;5;28;43mself\u001B[39;49m\u001B[38;5;241;43m.\u001B[39;49m\u001B[43msuppressComposite\u001B[49m\u001B[43m)\u001B[49m\n\u001B[1;32m   3085\u001B[0m \u001B[38;5;28;01mfor\u001B[39;00m sfig \u001B[38;5;129;01min\u001B[39;00m \u001B[38;5;28mself\u001B[39m\u001B[38;5;241m.\u001B[39msubfigs:\n\u001B[1;32m   3086\u001B[0m     sfig\u001B[38;5;241m.\u001B[39mdraw(renderer)\n",
      "File \u001B[0;32m~/.pyenv/versions/paralleldomain_internal/lib/python3.10/site-packages/matplotlib/image.py:131\u001B[0m, in \u001B[0;36m_draw_list_compositing_images\u001B[0;34m(renderer, parent, artists, suppress_composite)\u001B[0m\n\u001B[1;32m    129\u001B[0m \u001B[38;5;28;01mif\u001B[39;00m not_composite \u001B[38;5;129;01mor\u001B[39;00m \u001B[38;5;129;01mnot\u001B[39;00m has_images:\n\u001B[1;32m    130\u001B[0m     \u001B[38;5;28;01mfor\u001B[39;00m a \u001B[38;5;129;01min\u001B[39;00m artists:\n\u001B[0;32m--> 131\u001B[0m         \u001B[43ma\u001B[49m\u001B[38;5;241;43m.\u001B[39;49m\u001B[43mdraw\u001B[49m\u001B[43m(\u001B[49m\u001B[43mrenderer\u001B[49m\u001B[43m)\u001B[49m\n\u001B[1;32m    132\u001B[0m \u001B[38;5;28;01melse\u001B[39;00m:\n\u001B[1;32m    133\u001B[0m     \u001B[38;5;66;03m# Composite any adjacent images together\u001B[39;00m\n\u001B[1;32m    134\u001B[0m     image_group \u001B[38;5;241m=\u001B[39m []\n",
      "File \u001B[0;32m~/.pyenv/versions/paralleldomain_internal/lib/python3.10/site-packages/matplotlib/artist.py:51\u001B[0m, in \u001B[0;36mallow_rasterization.<locals>.draw_wrapper\u001B[0;34m(artist, renderer)\u001B[0m\n\u001B[1;32m     48\u001B[0m     \u001B[38;5;28;01mif\u001B[39;00m artist\u001B[38;5;241m.\u001B[39mget_agg_filter() \u001B[38;5;129;01mis\u001B[39;00m \u001B[38;5;129;01mnot\u001B[39;00m \u001B[38;5;28;01mNone\u001B[39;00m:\n\u001B[1;32m     49\u001B[0m         renderer\u001B[38;5;241m.\u001B[39mstart_filter()\n\u001B[0;32m---> 51\u001B[0m     \u001B[38;5;28;01mreturn\u001B[39;00m \u001B[43mdraw\u001B[49m\u001B[43m(\u001B[49m\u001B[43martist\u001B[49m\u001B[43m,\u001B[49m\u001B[43m \u001B[49m\u001B[43mrenderer\u001B[49m\u001B[43m)\u001B[49m\n\u001B[1;32m     52\u001B[0m \u001B[38;5;28;01mfinally\u001B[39;00m:\n\u001B[1;32m     53\u001B[0m     \u001B[38;5;28;01mif\u001B[39;00m artist\u001B[38;5;241m.\u001B[39mget_agg_filter() \u001B[38;5;129;01mis\u001B[39;00m \u001B[38;5;129;01mnot\u001B[39;00m \u001B[38;5;28;01mNone\u001B[39;00m:\n",
      "File \u001B[0;32m~/.pyenv/versions/paralleldomain_internal/lib/python3.10/site-packages/matplotlib/axes/_base.py:3100\u001B[0m, in \u001B[0;36m_AxesBase.draw\u001B[0;34m(self, renderer)\u001B[0m\n\u001B[1;32m   3097\u001B[0m         a\u001B[38;5;241m.\u001B[39mdraw(renderer)\n\u001B[1;32m   3098\u001B[0m     renderer\u001B[38;5;241m.\u001B[39mstop_rasterizing()\n\u001B[0;32m-> 3100\u001B[0m \u001B[43mmimage\u001B[49m\u001B[38;5;241;43m.\u001B[39;49m\u001B[43m_draw_list_compositing_images\u001B[49m\u001B[43m(\u001B[49m\n\u001B[1;32m   3101\u001B[0m \u001B[43m    \u001B[49m\u001B[43mrenderer\u001B[49m\u001B[43m,\u001B[49m\u001B[43m \u001B[49m\u001B[38;5;28;43mself\u001B[39;49m\u001B[43m,\u001B[49m\u001B[43m \u001B[49m\u001B[43martists\u001B[49m\u001B[43m,\u001B[49m\u001B[43m \u001B[49m\u001B[38;5;28;43mself\u001B[39;49m\u001B[38;5;241;43m.\u001B[39;49m\u001B[43mfigure\u001B[49m\u001B[38;5;241;43m.\u001B[39;49m\u001B[43msuppressComposite\u001B[49m\u001B[43m)\u001B[49m\n\u001B[1;32m   3103\u001B[0m renderer\u001B[38;5;241m.\u001B[39mclose_group(\u001B[38;5;124m'\u001B[39m\u001B[38;5;124maxes\u001B[39m\u001B[38;5;124m'\u001B[39m)\n\u001B[1;32m   3104\u001B[0m \u001B[38;5;28mself\u001B[39m\u001B[38;5;241m.\u001B[39mstale \u001B[38;5;241m=\u001B[39m \u001B[38;5;28;01mFalse\u001B[39;00m\n",
      "File \u001B[0;32m~/.pyenv/versions/paralleldomain_internal/lib/python3.10/site-packages/matplotlib/image.py:131\u001B[0m, in \u001B[0;36m_draw_list_compositing_images\u001B[0;34m(renderer, parent, artists, suppress_composite)\u001B[0m\n\u001B[1;32m    129\u001B[0m \u001B[38;5;28;01mif\u001B[39;00m not_composite \u001B[38;5;129;01mor\u001B[39;00m \u001B[38;5;129;01mnot\u001B[39;00m has_images:\n\u001B[1;32m    130\u001B[0m     \u001B[38;5;28;01mfor\u001B[39;00m a \u001B[38;5;129;01min\u001B[39;00m artists:\n\u001B[0;32m--> 131\u001B[0m         \u001B[43ma\u001B[49m\u001B[38;5;241;43m.\u001B[39;49m\u001B[43mdraw\u001B[49m\u001B[43m(\u001B[49m\u001B[43mrenderer\u001B[49m\u001B[43m)\u001B[49m\n\u001B[1;32m    132\u001B[0m \u001B[38;5;28;01melse\u001B[39;00m:\n\u001B[1;32m    133\u001B[0m     \u001B[38;5;66;03m# Composite any adjacent images together\u001B[39;00m\n\u001B[1;32m    134\u001B[0m     image_group \u001B[38;5;241m=\u001B[39m []\n",
      "File \u001B[0;32m~/.pyenv/versions/paralleldomain_internal/lib/python3.10/site-packages/matplotlib/artist.py:51\u001B[0m, in \u001B[0;36mallow_rasterization.<locals>.draw_wrapper\u001B[0;34m(artist, renderer)\u001B[0m\n\u001B[1;32m     48\u001B[0m     \u001B[38;5;28;01mif\u001B[39;00m artist\u001B[38;5;241m.\u001B[39mget_agg_filter() \u001B[38;5;129;01mis\u001B[39;00m \u001B[38;5;129;01mnot\u001B[39;00m \u001B[38;5;28;01mNone\u001B[39;00m:\n\u001B[1;32m     49\u001B[0m         renderer\u001B[38;5;241m.\u001B[39mstart_filter()\n\u001B[0;32m---> 51\u001B[0m     \u001B[38;5;28;01mreturn\u001B[39;00m \u001B[43mdraw\u001B[49m\u001B[43m(\u001B[49m\u001B[43martist\u001B[49m\u001B[43m,\u001B[49m\u001B[43m \u001B[49m\u001B[43mrenderer\u001B[49m\u001B[43m)\u001B[49m\n\u001B[1;32m     52\u001B[0m \u001B[38;5;28;01mfinally\u001B[39;00m:\n\u001B[1;32m     53\u001B[0m     \u001B[38;5;28;01mif\u001B[39;00m artist\u001B[38;5;241m.\u001B[39mget_agg_filter() \u001B[38;5;129;01mis\u001B[39;00m \u001B[38;5;129;01mnot\u001B[39;00m \u001B[38;5;28;01mNone\u001B[39;00m:\n",
      "File \u001B[0;32m~/.pyenv/versions/paralleldomain_internal/lib/python3.10/site-packages/matplotlib/image.py:641\u001B[0m, in \u001B[0;36m_ImageBase.draw\u001B[0;34m(self, renderer, *args, **kwargs)\u001B[0m\n\u001B[1;32m    639\u001B[0m         renderer\u001B[38;5;241m.\u001B[39mdraw_image(gc, l, b, im, trans)\n\u001B[1;32m    640\u001B[0m \u001B[38;5;28;01melse\u001B[39;00m:\n\u001B[0;32m--> 641\u001B[0m     im, l, b, trans \u001B[38;5;241m=\u001B[39m \u001B[38;5;28;43mself\u001B[39;49m\u001B[38;5;241;43m.\u001B[39;49m\u001B[43mmake_image\u001B[49m\u001B[43m(\u001B[49m\n\u001B[1;32m    642\u001B[0m \u001B[43m        \u001B[49m\u001B[43mrenderer\u001B[49m\u001B[43m,\u001B[49m\u001B[43m \u001B[49m\u001B[43mrenderer\u001B[49m\u001B[38;5;241;43m.\u001B[39;49m\u001B[43mget_image_magnification\u001B[49m\u001B[43m(\u001B[49m\u001B[43m)\u001B[49m\u001B[43m)\u001B[49m\n\u001B[1;32m    643\u001B[0m     \u001B[38;5;28;01mif\u001B[39;00m im \u001B[38;5;129;01mis\u001B[39;00m \u001B[38;5;129;01mnot\u001B[39;00m \u001B[38;5;28;01mNone\u001B[39;00m:\n\u001B[1;32m    644\u001B[0m         renderer\u001B[38;5;241m.\u001B[39mdraw_image(gc, l, b, im)\n",
      "File \u001B[0;32m~/.pyenv/versions/paralleldomain_internal/lib/python3.10/site-packages/matplotlib/image.py:949\u001B[0m, in \u001B[0;36mAxesImage.make_image\u001B[0;34m(self, renderer, magnification, unsampled)\u001B[0m\n\u001B[1;32m    946\u001B[0m transformed_bbox \u001B[38;5;241m=\u001B[39m TransformedBbox(bbox, trans)\n\u001B[1;32m    947\u001B[0m clip \u001B[38;5;241m=\u001B[39m ((\u001B[38;5;28mself\u001B[39m\u001B[38;5;241m.\u001B[39mget_clip_box() \u001B[38;5;129;01mor\u001B[39;00m \u001B[38;5;28mself\u001B[39m\u001B[38;5;241m.\u001B[39maxes\u001B[38;5;241m.\u001B[39mbbox) \u001B[38;5;28;01mif\u001B[39;00m \u001B[38;5;28mself\u001B[39m\u001B[38;5;241m.\u001B[39mget_clip_on()\n\u001B[1;32m    948\u001B[0m         \u001B[38;5;28;01melse\u001B[39;00m \u001B[38;5;28mself\u001B[39m\u001B[38;5;241m.\u001B[39mfigure\u001B[38;5;241m.\u001B[39mbbox)\n\u001B[0;32m--> 949\u001B[0m \u001B[38;5;28;01mreturn\u001B[39;00m \u001B[38;5;28;43mself\u001B[39;49m\u001B[38;5;241;43m.\u001B[39;49m\u001B[43m_make_image\u001B[49m\u001B[43m(\u001B[49m\u001B[38;5;28;43mself\u001B[39;49m\u001B[38;5;241;43m.\u001B[39;49m\u001B[43m_A\u001B[49m\u001B[43m,\u001B[49m\u001B[43m \u001B[49m\u001B[43mbbox\u001B[49m\u001B[43m,\u001B[49m\u001B[43m \u001B[49m\u001B[43mtransformed_bbox\u001B[49m\u001B[43m,\u001B[49m\u001B[43m \u001B[49m\u001B[43mclip\u001B[49m\u001B[43m,\u001B[49m\n\u001B[1;32m    950\u001B[0m \u001B[43m                        \u001B[49m\u001B[43mmagnification\u001B[49m\u001B[43m,\u001B[49m\u001B[43m \u001B[49m\u001B[43munsampled\u001B[49m\u001B[38;5;241;43m=\u001B[39;49m\u001B[43munsampled\u001B[49m\u001B[43m)\u001B[49m\n",
      "File \u001B[0;32m~/.pyenv/versions/paralleldomain_internal/lib/python3.10/site-packages/matplotlib/image.py:551\u001B[0m, in \u001B[0;36m_ImageBase._make_image\u001B[0;34m(self, A, in_bbox, out_bbox, clip_bbox, magnification, unsampled, round_to_pixel_border)\u001B[0m\n\u001B[1;32m    549\u001B[0m     A \u001B[38;5;241m=\u001B[39m \u001B[38;5;28mself\u001B[39m\u001B[38;5;241m.\u001B[39mto_rgba(A)\n\u001B[1;32m    550\u001B[0m \u001B[38;5;28;01mif\u001B[39;00m A\u001B[38;5;241m.\u001B[39mshape[\u001B[38;5;241m2\u001B[39m] \u001B[38;5;241m==\u001B[39m \u001B[38;5;241m3\u001B[39m:\n\u001B[0;32m--> 551\u001B[0m     A \u001B[38;5;241m=\u001B[39m \u001B[43m_rgb_to_rgba\u001B[49m\u001B[43m(\u001B[49m\u001B[43mA\u001B[49m\u001B[43m)\u001B[49m\n\u001B[1;32m    552\u001B[0m alpha \u001B[38;5;241m=\u001B[39m \u001B[38;5;28mself\u001B[39m\u001B[38;5;241m.\u001B[39m_get_scalar_alpha()\n\u001B[1;32m    553\u001B[0m output_alpha \u001B[38;5;241m=\u001B[39m _resample(  \u001B[38;5;66;03m# resample alpha channel\u001B[39;00m\n\u001B[1;32m    554\u001B[0m     \u001B[38;5;28mself\u001B[39m, A[\u001B[38;5;241m.\u001B[39m\u001B[38;5;241m.\u001B[39m\u001B[38;5;241m.\u001B[39m, \u001B[38;5;241m3\u001B[39m], out_shape, t, alpha\u001B[38;5;241m=\u001B[39malpha)\n",
      "\u001B[0;31mKeyboardInterrupt\u001B[0m: "
     ]
    }
   ],
   "source": [
    "from paralleldomain.generation.stream import Stream\n",
    "from paralleldomain.utilities.any_path import AnyPath\n",
    "from paralleldomain.utilities.fsio import write_png\n",
    "\n",
    "import matplotlib.pyplot as plt\n",
    "\n",
    "\n",
    "for frame in Stream.frame_stream(\n",
    "    scenario=scenario, number_of_frames=20, name=\"test\", step_url=\"ssl://step-api.paralleldomain.com:3001\"\n",
    "):\n",
    "    for camera_frame in frame.camera_frames:\n",
    "        write_png(obj=camera_frame.image.rgba, path=AnyPath(f\"{frame.frame_id}.png\"))\n",
    "        plt.imshow(camera_frame.image.rgb)\n"
   ],
   "metadata": {
    "collapsed": false
   }
  },
  {
   "cell_type": "code",
   "execution_count": null,
   "outputs": [],
   "source": [],
   "metadata": {
    "collapsed": false
   }
  }
 ],
 "metadata": {
  "kernelspec": {
   "display_name": "Python 3",
   "language": "python",
   "name": "python3"
  },
  "language_info": {
   "codemirror_mode": {
    "name": "ipython",
    "version": 2
   },
   "file_extension": ".py",
   "mimetype": "text/x-python",
   "name": "python",
   "nbconvert_exporter": "python",
   "pygments_lexer": "ipython2",
   "version": "2.7.6"
  }
 },
 "nbformat": 4,
 "nbformat_minor": 0
}
